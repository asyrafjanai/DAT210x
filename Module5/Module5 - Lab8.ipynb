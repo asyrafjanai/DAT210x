{
 "cells": [
  {
   "cell_type": "markdown",
   "metadata": {},
   "source": [
    "# DAT210x - Programming with Python for DS"
   ]
  },
  {
   "cell_type": "markdown",
   "metadata": {},
   "source": [
    "## Module5- Lab8"
   ]
  },
  {
   "cell_type": "code",
   "execution_count": 2,
   "metadata": {
    "collapsed": true
   },
   "outputs": [],
   "source": [
    "import pandas as pd\n",
    "import numpy as np\n",
    "import matplotlib\n",
    "import matplotlib.pyplot as plt\n",
    "\n",
    "plt.style.use('ggplot') # Look Pretty"
   ]
  },
  {
   "cell_type": "markdown",
   "metadata": {},
   "source": [
    "### A Convenience Function"
   ]
  },
  {
   "cell_type": "markdown",
   "metadata": {},
   "source": [
    "This convenience method will take care of plotting your test observations, comparing them to the regression line, and displaying the R2 coefficient"
   ]
  },
  {
   "cell_type": "code",
   "execution_count": 3,
   "metadata": {
    "collapsed": false
   },
   "outputs": [],
   "source": [
    "def drawLine(model, X_test, y_test, title):\n",
    "    fig = plt.figure()\n",
    "    ax = fig.add_subplot(111)\n",
    "    ax.scatter(X_test, y_test, c='g', marker='o')\n",
    "    ax.plot(X_test, model.predict(X_test), color='orange', linewidth=1, alpha=0.7)\n",
    "\n",
    "    print(\"Est 2014 \" + title + \" Life Expectancy: \", model.predict([[2014]])[0])\n",
    "    print(\"Est 2030 \" + title + \" Life Expectancy: \", model.predict([[2030]])[0])\n",
    "    print(\"Est 2045 \" + title + \" Life Expectancy: \", model.predict([[2045]])[0])\n",
    "\n",
    "    score = model.score(X_test, y_test)\n",
    "    title += \" R2: \" + str(score)\n",
    "    ax.set_title(title)\n",
    "\n",
    "    plt.show()"
   ]
  },
  {
   "cell_type": "markdown",
   "metadata": {
    "collapsed": true
   },
   "source": [
    "### The Assignment"
   ]
  },
  {
   "cell_type": "markdown",
   "metadata": {
    "collapsed": true
   },
   "source": [
    "Load up the data here into a variable called `X`. As usual, do a .describe and a print of your dataset and compare it to the dataset loaded in a text file or in a spread sheet application:"
   ]
  },
  {
   "cell_type": "code",
   "execution_count": 4,
   "metadata": {
    "collapsed": false
   },
   "outputs": [
    {
     "data": {
      "text/html": [
       "<div>\n",
       "<table border=\"1\" class=\"dataframe\">\n",
       "  <thead>\n",
       "    <tr style=\"text-align: right;\">\n",
       "      <th></th>\n",
       "      <th>Year</th>\n",
       "      <th>WhiteMale</th>\n",
       "      <th>WhiteFemale</th>\n",
       "      <th>BlackMale</th>\n",
       "      <th>BlackFemale</th>\n",
       "    </tr>\n",
       "  </thead>\n",
       "  <tbody>\n",
       "    <tr>\n",
       "      <th>count</th>\n",
       "      <td>40.000000</td>\n",
       "      <td>40.000000</td>\n",
       "      <td>40.000000</td>\n",
       "      <td>40.000000</td>\n",
       "      <td>40.000000</td>\n",
       "    </tr>\n",
       "    <tr>\n",
       "      <th>mean</th>\n",
       "      <td>1991.250000</td>\n",
       "      <td>72.730000</td>\n",
       "      <td>78.592500</td>\n",
       "      <td>65.912500</td>\n",
       "      <td>73.262500</td>\n",
       "    </tr>\n",
       "    <tr>\n",
       "      <th>std</th>\n",
       "      <td>20.536085</td>\n",
       "      <td>4.968681</td>\n",
       "      <td>5.200561</td>\n",
       "      <td>6.422284</td>\n",
       "      <td>7.157592</td>\n",
       "    </tr>\n",
       "    <tr>\n",
       "      <th>min</th>\n",
       "      <td>1900.000000</td>\n",
       "      <td>46.600000</td>\n",
       "      <td>48.700000</td>\n",
       "      <td>32.500000</td>\n",
       "      <td>33.500000</td>\n",
       "    </tr>\n",
       "    <tr>\n",
       "      <th>25%</th>\n",
       "      <td>1984.750000</td>\n",
       "      <td>71.800000</td>\n",
       "      <td>78.700000</td>\n",
       "      <td>64.575000</td>\n",
       "      <td>73.400000</td>\n",
       "    </tr>\n",
       "    <tr>\n",
       "      <th>50%</th>\n",
       "      <td>1994.500000</td>\n",
       "      <td>73.350000</td>\n",
       "      <td>79.650000</td>\n",
       "      <td>65.250000</td>\n",
       "      <td>73.900000</td>\n",
       "    </tr>\n",
       "    <tr>\n",
       "      <th>75%</th>\n",
       "      <td>2004.250000</td>\n",
       "      <td>75.500000</td>\n",
       "      <td>80.500000</td>\n",
       "      <td>69.425000</td>\n",
       "      <td>76.125000</td>\n",
       "    </tr>\n",
       "    <tr>\n",
       "      <th>max</th>\n",
       "      <td>2014.000000</td>\n",
       "      <td>76.700000</td>\n",
       "      <td>81.400000</td>\n",
       "      <td>72.500000</td>\n",
       "      <td>78.400000</td>\n",
       "    </tr>\n",
       "  </tbody>\n",
       "</table>\n",
       "</div>"
      ],
      "text/plain": [
       "              Year  WhiteMale  WhiteFemale  BlackMale  BlackFemale\n",
       "count    40.000000  40.000000    40.000000  40.000000    40.000000\n",
       "mean   1991.250000  72.730000    78.592500  65.912500    73.262500\n",
       "std      20.536085   4.968681     5.200561   6.422284     7.157592\n",
       "min    1900.000000  46.600000    48.700000  32.500000    33.500000\n",
       "25%    1984.750000  71.800000    78.700000  64.575000    73.400000\n",
       "50%    1994.500000  73.350000    79.650000  65.250000    73.900000\n",
       "75%    2004.250000  75.500000    80.500000  69.425000    76.125000\n",
       "max    2014.000000  76.700000    81.400000  72.500000    78.400000"
      ]
     },
     "execution_count": 4,
     "metadata": {},
     "output_type": "execute_result"
    }
   ],
   "source": [
    "df = pd.read_csv('Datasets/life_expectancy.csv')\n",
    "df.describe()"
   ]
  },
  {
   "cell_type": "markdown",
   "metadata": {},
   "source": [
    "Create your linear regression model here and store it in a variable called `model`. Don't actually train or do anything else with it yet:"
   ]
  },
  {
   "cell_type": "code",
   "execution_count": 5,
   "metadata": {
    "collapsed": true
   },
   "outputs": [],
   "source": [
    "from sklearn.linear_model import LinearRegression\n",
    "model = LinearRegression()"
   ]
  },
  {
   "cell_type": "markdown",
   "metadata": {
    "collapsed": false
   },
   "source": [
    "Slice out your data manually (e.g. don't use `train_test_split`, but actually do the indexing yourself. Set `X_train` to be year values LESS than 1986, and `y_train` to be corresponding 'WhiteMale' age values. You might also want to read the note about slicing on the bottom of this document before proceeding:"
   ]
  },
  {
   "cell_type": "code",
   "execution_count": 18,
   "metadata": {
    "collapsed": false,
    "scrolled": false
   },
   "outputs": [
    {
     "data": {
      "text/html": [
       "<div>\n",
       "<table border=\"1\" class=\"dataframe\">\n",
       "  <thead>\n",
       "    <tr style=\"text-align: right;\">\n",
       "      <th></th>\n",
       "      <th>Year</th>\n",
       "    </tr>\n",
       "  </thead>\n",
       "  <tbody>\n",
       "    <tr>\n",
       "      <th>0</th>\n",
       "      <td>1900</td>\n",
       "    </tr>\n",
       "    <tr>\n",
       "      <th>1</th>\n",
       "      <td>1950</td>\n",
       "    </tr>\n",
       "    <tr>\n",
       "      <th>2</th>\n",
       "      <td>1960</td>\n",
       "    </tr>\n",
       "    <tr>\n",
       "      <th>3</th>\n",
       "      <td>1970</td>\n",
       "    </tr>\n",
       "    <tr>\n",
       "      <th>4</th>\n",
       "      <td>1975</td>\n",
       "    </tr>\n",
       "    <tr>\n",
       "      <th>5</th>\n",
       "      <td>1980</td>\n",
       "    </tr>\n",
       "    <tr>\n",
       "      <th>6</th>\n",
       "      <td>1981</td>\n",
       "    </tr>\n",
       "    <tr>\n",
       "      <th>7</th>\n",
       "      <td>1982</td>\n",
       "    </tr>\n",
       "    <tr>\n",
       "      <th>8</th>\n",
       "      <td>1983</td>\n",
       "    </tr>\n",
       "    <tr>\n",
       "      <th>9</th>\n",
       "      <td>1984</td>\n",
       "    </tr>\n",
       "    <tr>\n",
       "      <th>10</th>\n",
       "      <td>1985</td>\n",
       "    </tr>\n",
       "  </tbody>\n",
       "</table>\n",
       "</div>"
      ],
      "text/plain": [
       "    Year\n",
       "0   1900\n",
       "1   1950\n",
       "2   1960\n",
       "3   1970\n",
       "4   1975\n",
       "5   1980\n",
       "6   1981\n",
       "7   1982\n",
       "8   1983\n",
       "9   1984\n",
       "10  1985"
      ]
     },
     "execution_count": 18,
     "metadata": {},
     "output_type": "execute_result"
    }
   ],
   "source": [
    "xs = df[(df['Year'] < 1986)]\n",
    "X_train = xs.iloc[:,0].to_frame()\n",
    "y_train = xs.iloc[:,1].to_frame()\n",
    "\n",
    "xt = df[(df['Year'] > 1986)]\n",
    "X_test = xt.iloc[:,0].to_frame()\n",
    "y_test = xt.iloc[:,1].to_frame()"
   ]
  },
  {
   "cell_type": "markdown",
   "metadata": {},
   "source": [
    "Train your model then pass it into `drawLine` with your training set and labels. You can title it 'WhiteMale'. `drawLine` will output to the console a 2014 extrapolation / approximation for what it believes the WhiteMale's life expectancy in the U.S. will be... given the pre-1986 data you trained it with. It'll also produce a 2030 and 2045 extrapolation:"
   ]
  },
  {
   "cell_type": "code",
   "execution_count": 19,
   "metadata": {
    "collapsed": false
   },
   "outputs": [
    {
     "name": "stdout",
     "output_type": "stream",
     "text": [
      "Est 2014 white male Life Expectancy:  [ 80.85635426]\n",
      "Est 2030 white male Life Expectancy:  [ 85.39349384]\n",
      "Est 2045 white male Life Expectancy:  [ 89.6470622]\n"
     ]
    },
    {
     "data": {
      "image/png": "[encoded data removed]",
      "text/plain": [
       "<matplotlib.figure.Figure at 0x28c47b26860>"
      ]
     },
     "metadata": {},
     "output_type": "display_data"
    }
   ],
   "source": [
    "model.fit(X_train, y_train)\n",
    "drawLine(model, X_train, y_train, 'white male')"
   ]
  },
  {
   "cell_type": "markdown",
   "metadata": {},
   "source": [
    "Print the actual 2014 'WhiteMale' life expectancy from your loaded dataset"
   ]
  },
  {
   "cell_type": "code",
   "execution_count": 16,
   "metadata": {
    "collapsed": false
   },
   "outputs": [
    {
     "data": {
      "text/html": [
       "<div>\n",
       "<table border=\"1\" class=\"dataframe\">\n",
       "  <thead>\n",
       "    <tr style=\"text-align: right;\">\n",
       "      <th></th>\n",
       "      <th>Year</th>\n",
       "      <th>WhiteMale</th>\n",
       "      <th>WhiteFemale</th>\n",
       "      <th>BlackMale</th>\n",
       "      <th>BlackFemale</th>\n",
       "    </tr>\n",
       "  </thead>\n",
       "  <tbody>\n",
       "    <tr>\n",
       "      <th>39</th>\n",
       "      <td>2014</td>\n",
       "      <td>76.7</td>\n",
       "      <td>81.4</td>\n",
       "      <td>72.5</td>\n",
       "      <td>78.4</td>\n",
       "    </tr>\n",
       "  </tbody>\n",
       "</table>\n",
       "</div>"
      ],
      "text/plain": [
       "    Year  WhiteMale  WhiteFemale  BlackMale  BlackFemale\n",
       "39  2014       76.7         81.4       72.5         78.4"
      ]
     },
     "execution_count": 16,
     "metadata": {},
     "output_type": "execute_result"
    }
   ],
   "source": [
    "df[(df['Year'] == 2014)]"
   ]
  },
  {
   "cell_type": "markdown",
   "metadata": {},
   "source": [
    "Repeat the process, but instead of for WhiteMale, this time select BlackFemale. Create a slice for BlackFemales, fit your model, and then call `drawLine`. Lastly, print out the actual 2014 BlackFemale life expectancy:"
   ]
  },
  {
   "cell_type": "code",
   "execution_count": 20,
   "metadata": {
    "collapsed": false
   },
   "outputs": [
    {
     "name": "stdout",
     "output_type": "stream",
     "text": [
      "Est 2014 black female Life Expectancy:  [ 77.09699054]\n",
      "Est 2030 black female Life Expectancy:  [ 82.94038406]\n",
      "Est 2045 black female Life Expectancy:  [ 88.41856549]\n"
     ]
    },
    {
     "data": {
      "image/png": "[encoded data removed]",
      "text/plain": [
       "<matplotlib.figure.Figure at 0x28c47b496d8>"
      ]
     },
     "metadata": {},
     "output_type": "display_data"
    }
   ],
   "source": [
    "xs = df[(df['Year'] < 1986)]\n",
    "X_train = xs.iloc[:,0].to_frame()\n",
    "y_train = xs.iloc[:,3].to_frame()\n",
    "\n",
    "model.fit(X_train, y_train)\n",
    "drawLine(model, X_train, y_train, 'black female')"
   ]
  },
  {
   "cell_type": "markdown",
   "metadata": {},
   "source": [
    "Lastly, print out a correlation matrix for your entire dataset, and display a visualization of the correlation matrix, just as we described in the visualization section of the course:"
   ]
  },
  {
   "cell_type": "code",
   "execution_count": 30,
   "metadata": {
    "collapsed": false
   },
   "outputs": [
    {
     "data": {
      "text/html": [
       "<div>\n",
       "<table border=\"1\" class=\"dataframe\">\n",
       "  <thead>\n",
       "    <tr style=\"text-align: right;\">\n",
       "      <th></th>\n",
       "      <th>Year</th>\n",
       "      <th>WhiteMale</th>\n",
       "      <th>WhiteFemale</th>\n",
       "      <th>BlackMale</th>\n",
       "      <th>BlackFemale</th>\n",
       "    </tr>\n",
       "  </thead>\n",
       "  <tbody>\n",
       "    <tr>\n",
       "      <th>Year</th>\n",
       "      <td>1.000000</td>\n",
       "      <td>0.974154</td>\n",
       "      <td>0.913907</td>\n",
       "      <td>0.960635</td>\n",
       "      <td>0.940429</td>\n",
       "    </tr>\n",
       "    <tr>\n",
       "      <th>WhiteMale</th>\n",
       "      <td>0.974154</td>\n",
       "      <td>1.000000</td>\n",
       "      <td>0.975164</td>\n",
       "      <td>0.987974</td>\n",
       "      <td>0.985009</td>\n",
       "    </tr>\n",
       "    <tr>\n",
       "      <th>WhiteFemale</th>\n",
       "      <td>0.913907</td>\n",
       "      <td>0.975164</td>\n",
       "      <td>1.000000</td>\n",
       "      <td>0.956689</td>\n",
       "      <td>0.994656</td>\n",
       "    </tr>\n",
       "    <tr>\n",
       "      <th>BlackMale</th>\n",
       "      <td>0.960635</td>\n",
       "      <td>0.987974</td>\n",
       "      <td>0.956689</td>\n",
       "      <td>1.000000</td>\n",
       "      <td>0.975922</td>\n",
       "    </tr>\n",
       "    <tr>\n",
       "      <th>BlackFemale</th>\n",
       "      <td>0.940429</td>\n",
       "      <td>0.985009</td>\n",
       "      <td>0.994656</td>\n",
       "      <td>0.975922</td>\n",
       "      <td>1.000000</td>\n",
       "    </tr>\n",
       "  </tbody>\n",
       "</table>\n",
       "</div>"
      ],
      "text/plain": [
       "                 Year  WhiteMale  WhiteFemale  BlackMale  BlackFemale\n",
       "Year         1.000000   0.974154     0.913907   0.960635     0.940429\n",
       "WhiteMale    0.974154   1.000000     0.975164   0.987974     0.985009\n",
       "WhiteFemale  0.913907   0.975164     1.000000   0.956689     0.994656\n",
       "BlackMale    0.960635   0.987974     0.956689   1.000000     0.975922\n",
       "BlackFemale  0.940429   0.985009     0.994656   0.975922     1.000000"
      ]
     },
     "execution_count": 30,
     "metadata": {},
     "output_type": "execute_result"
    }
   ],
   "source": [
    "df.corr()"
   ]
  },
  {
   "cell_type": "code",
   "execution_count": 31,
   "metadata": {
    "collapsed": false
   },
   "outputs": [
    {
     "data": {
      "image/png": "[encoded data removed]",
      "text/plain": [
       "<matplotlib.figure.Figure at 0x28c493414e0>"
      ]
     },
     "metadata": {},
     "output_type": "display_data"
    }
   ],
   "source": [
    "plt.imshow(df.corr(), cmap=plt.cm.Blues, interpolation='nearest')\n",
    "plt.colorbar()\n",
    "tick_marks = [i for i in range(len(df.columns))]\n",
    "plt.xticks(tick_marks, df.columns, rotation='vertical')\n",
    "plt.yticks(tick_marks, df.columns)\n",
    "plt.show()"
   ]
  },
  {
   "cell_type": "code",
   "execution_count": 25,
   "metadata": {
    "collapsed": false
   },
   "outputs": [
    {
     "data": {
      "image/png": "[encoded data removed]",
      "text/plain": [
       "<matplotlib.figure.Figure at 0x28c4a0272b0>"
      ]
     },
     "metadata": {},
     "output_type": "display_data"
    }
   ],
   "source": [
    "# See correlation of features with each other\n",
    "import seaborn as sns\n",
    "X = df[list(df.columns)[:]]\n",
    "corr = X.select_dtypes(include = ['float64', 'int64']).iloc[:, 1:].corr()\n",
    "plt.figure(figsize=(15, 15))\n",
    "sns.heatmap(corr, vmax=1, square=True, cmap=\"YlGnBu\",linecolor='black', annot=False)\n",
    "plt.yticks(rotation=0)\n",
    "plt.xticks(rotation=90)\n",
    "plt.show()\n"
   ]
  },
  {
   "cell_type": "code",
   "execution_count": null,
   "metadata": {
    "collapsed": true
   },
   "outputs": [],
   "source": [
    "plt.show()"
   ]
  },
  {
   "cell_type": "markdown",
   "metadata": {
    "collapsed": false
   },
   "source": [
    "### Notes On Fitting, Scoring, and Predicting:"
   ]
  },
  {
   "cell_type": "markdown",
   "metadata": {
    "collapsed": true
   },
   "source": [
    "Here's a hint to help you complete the assignment without pulling your hair out! When you use `.fit()`, `.score()`, and `.predict()` on your model, SciKit-Learn expects your training data to be in spreadsheet (2D Array-Like) form. This means you can't simply pass in a 1D Array (slice) and get away with it.\n",
    "\n",
    "To properly prep your data, you have to pass in a 2D Numpy Array, or a dataframe. But what happens if you really only want to pass in a single feature?\n",
    "\n",
    "If you slice your dataframe using `df[['ColumnName']]` syntax, the result that comes back is actually a _dataframe_. Go ahead and do a `type()` on it to check it out. Since it's already a dataframe, you're good -- no further changes needed.\n",
    "\n",
    "But if you slice your dataframe using the `df.ColumnName` syntax, OR if you call `df['ColumnName']`, the result that comes back is actually a series (1D Array)! This will cause SKLearn to bug out. So if you are slicing using either of those two techniques, before sending your training or testing data to `.fit` / `.score`, do `any_column = my_column.reshape(-1,1)`. \n",
    "\n",
    "This will convert your 1D array of `[n_samples]`, to a 2D array shaped like `[n_samples, 1]`. A single feature, with many samples.\n",
    "\n",
    "If you did something like `my_column = [my_column]`, that would produce an array in the shape of `[1, n_samples]`, which is incorrect because SKLearn expects your data to be arranged as `[n_samples, n_features]`. Keep in mind, all of the above only relates to your `X` or input data, and does not apply to your `y` or labels."
   ]
  }
 ],
 "metadata": {
  "anaconda-cloud": {},
  "kernelspec": {
   "display_name": "Python 3",
   "language": "python",
   "name": "python3"
  },
  "language_info": {
   "codemirror_mode": {
    "name": "ipython",
    "version": 3
   },
   "file_extension": ".py",
   "mimetype": "text/x-python",
   "name": "python",
   "nbconvert_exporter": "python",
   "pygments_lexer": "ipython3",
   "version": "3.6.0"
  },
  "toc": {
   "colors": {
    "hover_highlight": "#DAA520",
    "running_highlight": "#FF0000",
    "selected_highlight": "#FFD700"
   },
   "moveMenuLeft": true,
   "nav_menu": {
    "height": "58px",
    "width": "252px"
   },
   "navigate_menu": true,
   "number_sections": true,
   "sideBar": true,
   "threshold": 4,
   "toc_cell": false,
   "toc_section_display": "block",
   "toc_window_display": false,
   "widenNotebook": false
  }
 },
 "nbformat": 4,
 "nbformat_minor": 2
}
