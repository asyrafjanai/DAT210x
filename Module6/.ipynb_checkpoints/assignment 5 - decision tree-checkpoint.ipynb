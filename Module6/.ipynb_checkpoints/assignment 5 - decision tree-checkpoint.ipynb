{
 "cells": [
  {
   "cell_type": "code",
   "execution_count": 1,
   "metadata": {
    "collapsed": false
   },
   "outputs": [
    {
     "ename": "SyntaxError",
     "evalue": "invalid syntax (<ipython-input-1-7e841389dacf>, line 11)",
     "output_type": "error",
     "traceback": [
      "\u001b[0;36m  File \u001b[0;32m\"<ipython-input-1-7e841389dacf>\"\u001b[0;36m, line \u001b[0;32m11\u001b[0m\n\u001b[0;31m    df.replace(to_replace='?', value=np.)\u001b[0m\n\u001b[0m                                        ^\u001b[0m\n\u001b[0;31mSyntaxError\u001b[0m\u001b[0;31m:\u001b[0m invalid syntax\n"
     ]
    }
   ],
   "source": [
    "import pandas as pd\n",
    "import numpy as np\n",
    "\n",
    "names = ['edible', 'shape', 'surface', 'color', 'bruise', 'odor', 'g_attachment',\n",
    "         'g_space', 'g_size', 'g_color', 'shape', 'root', '12', '13', '14',\n",
    "         '15', 'veil-type', 'veil-color','ring-number','ring-type','spore-print-color',\n",
    "         'population','habitat']\n",
    "\n",
    "df = pd.read_table('C:/Users/acc_a/Desktop/DAT210x-master/Module6/Datasets/agaricus-lepiota.data', sep=',', \n",
    "                   names=names)\n",
    "df.replace(to_replace='?', value=np.Nan)\n",
    "df.dropna(axis=0)\n",
    "df.shape \n",
    "  "
   ]
  },
  {
   "cell_type": "code",
   "execution_count": 9,
   "metadata": {
    "collapsed": false
   },
   "outputs": [
    {
     "data": {
      "text/html": [
       "<div>\n",
       "<table border=\"1\" class=\"dataframe\">\n",
       "  <thead>\n",
       "    <tr style=\"text-align: right;\">\n",
       "      <th></th>\n",
       "      <th>edible</th>\n",
       "    </tr>\n",
       "  </thead>\n",
       "  <tbody>\n",
       "    <tr>\n",
       "      <th>0</th>\n",
       "      <td>p</td>\n",
       "    </tr>\n",
       "    <tr>\n",
       "      <th>1</th>\n",
       "      <td>e</td>\n",
       "    </tr>\n",
       "    <tr>\n",
       "      <th>2</th>\n",
       "      <td>e</td>\n",
       "    </tr>\n",
       "    <tr>\n",
       "      <th>3</th>\n",
       "      <td>p</td>\n",
       "    </tr>\n",
       "    <tr>\n",
       "      <th>4</th>\n",
       "      <td>e</td>\n",
       "    </tr>\n",
       "  </tbody>\n",
       "</table>\n",
       "</div>"
      ],
      "text/plain": [
       "  edible\n",
       "0      p\n",
       "1      e\n",
       "2      e\n",
       "3      p\n",
       "4      e"
      ]
     },
     "execution_count": 9,
     "metadata": {},
     "output_type": "execute_result"
    }
   ],
   "source": [
    "X = df.drop('edible', axis=1) \n",
    "y = df[['edible']]"
   ]
  },
  {
   "cell_type": "code",
   "execution_count": null,
   "metadata": {
    "collapsed": true
   },
   "outputs": [],
   "source": []
  },
  {
   "cell_type": "code",
   "execution_count": null,
   "metadata": {
    "collapsed": true
   },
   "outputs": [],
   "source": [
    "# \n",
    "# TODO: Load up the mushroom dataset into dataframe 'X'\n",
    "# Verify you did it properly.\n",
    "# Indices shouldn't be doubled.\n",
    "# Header information is on the dataset's website at the UCI ML Repo\n",
    "# Check NA Encoding\n",
    "#\n",
    "# .. your code here ..\n",
    "\n",
    "# INFO: An easy way to show which rows have nans in them\n",
    "#print X[pd.isnull(X).any(axis=1)]\n",
    "\n",
    "\n",
    "# \n",
    "# TODO: Go ahead and drop any row with a nan\n",
    "#\n",
    "# .. your code here ..\n",
    "print(X.shape)\n",
    "\n",
    "\n",
    "#\n",
    "# TODO: Copy the labels out of the dset into variable 'y' then Remove\n",
    "# them from X. Encode the labels, using the .map() trick we showed\n",
    "# you in Module 5 -- canadian:0, kama:1, and rosa:2\n",
    "#\n",
    "# .. your code here ..\n",
    "\n",
    "\n",
    "#\n",
    "# TODO: Encode the entire dataset using dummies\n",
    "#\n",
    "# .. your code here ..\n",
    "\n",
    "\n",
    "# \n",
    "# TODO: Split your data into test / train sets\n",
    "# Your test size can be 30% with random_state 7\n",
    "# Use variable names: X_train, X_test, y_train, y_test\n",
    "#\n",
    "# .. your code here ..\n",
    "\n",
    "\n",
    "\n",
    "#\n",
    "# TODO: Create an DT classifier. No need to set any parameters\n",
    "#\n",
    "# .. your code here ..\n",
    "\n",
    " \n",
    "#\n",
    "# TODO: train the classifier on the training data / labels:\n",
    "# TODO: score the classifier on the testing data / labels:\n",
    "#\n",
    "# .. your code here ..\n",
    "print(\"High-Dimensionality Score: \", round((score*100), 3))\n",
    "\n",
    "\n",
    "#\n",
    "# TODO: Use the code on the course's SciKit-Learn page to output a .DOT file\n",
    "# Then render the .DOT to .PNGs. Ensure you have graphviz installed.\n",
    "# If not, `brew install graphviz`. If you can't, use: http://webgraphviz.com/.\n",
    "# On Windows 10, graphviz installs via a msi installer that you can download from\n",
    "# the graphviz website. Also, a graph editor, gvedit.exe can be used to view the\n",
    "# tree directly from the exported tree.dot file without having to issue a call.\n",
    "#\n",
    "# .. your code here .."
   ]
  }
 ],
 "metadata": {
  "kernelspec": {
   "display_name": "Python 3",
   "language": "python",
   "name": "python3"
  },
  "language_info": {
   "codemirror_mode": {
    "name": "ipython",
    "version": 3
   },
   "file_extension": ".py",
   "mimetype": "text/x-python",
   "name": "python",
   "nbconvert_exporter": "python",
   "pygments_lexer": "ipython3",
   "version": "3.6.0"
  }
 },
 "nbformat": 4,
 "nbformat_minor": 2
}
